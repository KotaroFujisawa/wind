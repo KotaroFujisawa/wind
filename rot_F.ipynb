{
 "cells": [
  {
   "cell_type": "code",
   "execution_count": 1,
   "metadata": {},
   "outputs": [],
   "source": [
    "from sympy import *\n",
    "import matplotlib.pyplot as plt"
   ]
  },
  {
   "cell_type": "code",
   "execution_count": 2,
   "metadata": {},
   "outputs": [],
   "source": [
    "r   = var(\"r\")\n",
    "th  = var(\"th\")\n",
    "rho0= var(\"rho_0\")\n",
    "Q   = var(\"Q\")"
   ]
  },
  {
   "cell_type": "code",
   "execution_count": null,
   "metadata": {},
   "outputs": [],
   "source": [
    "#analytic form of Psi"
   ]
  },
  {
   "cell_type": "code",
   "execution_count": 3,
   "metadata": {},
   "outputs": [],
   "source": [
    "def Psi(r,th):\n",
    "    return (Rational(1,2)*r**2 - Rational(3,5)*r**4 + Rational(3,14)*r**6)*sin(th)**2"
   ]
  },
  {
   "cell_type": "code",
   "execution_count": 4,
   "metadata": {},
   "outputs": [],
   "source": [
    "def Br(r,th):\n",
    "    return simplify(diff(Psi(r,th), th) / (r**2 * sin(th)))"
   ]
  },
  {
   "cell_type": "code",
   "execution_count": 5,
   "metadata": {},
   "outputs": [],
   "source": [
    "def Bth(r,th):\n",
    "    return simplify(diff(Psi(r,th), r) / (- r * sin(th)))"
   ]
  },
  {
   "cell_type": "code",
   "execution_count": 6,
   "metadata": {},
   "outputs": [
    {
     "data": {
      "text/latex": [
       "$\\displaystyle \\left(\\frac{3 r^{4}}{7} - \\frac{6 r^{2}}{5} + 1\\right) \\cos{\\left(th \\right)}$"
      ],
      "text/plain": [
       "(3*r**4/7 - 6*r**2/5 + 1)*cos(th)"
      ]
     },
     "execution_count": 6,
     "metadata": {},
     "output_type": "execute_result"
    }
   ],
   "source": [
    "Br(r,th)"
   ]
  },
  {
   "cell_type": "code",
   "execution_count": 7,
   "metadata": {},
   "outputs": [
    {
     "data": {
      "text/latex": [
       "$\\displaystyle \\left(- \\frac{9 r^{4}}{7} + \\frac{12 r^{2}}{5} - 1\\right) \\sin{\\left(th \\right)}$"
      ],
      "text/plain": [
       "(-9*r**4/7 + 12*r**2/5 - 1)*sin(th)"
      ]
     },
     "execution_count": 7,
     "metadata": {},
     "output_type": "execute_result"
    }
   ],
   "source": [
    " Bth(r,th)"
   ]
  },
  {
   "cell_type": "code",
   "execution_count": 8,
   "metadata": {},
   "outputs": [],
   "source": [
    "def Jphi(r,th):\n",
    "    return simplify( (diff(r*Bth(r,th), r) - diff(Br(r,th),th)) / (4*pi*r)) "
   ]
  },
  {
   "cell_type": "code",
   "execution_count": 9,
   "metadata": {},
   "outputs": [
    {
     "data": {
      "text/latex": [
       "$\\displaystyle - \\frac{3 r \\left(r^{2} - 1\\right) \\sin{\\left(th \\right)}}{2 \\pi}$"
      ],
      "text/plain": [
       "-3*r*(r**2 - 1)*sin(th)/(2*pi)"
      ]
     },
     "execution_count": 9,
     "metadata": {},
     "output_type": "execute_result"
    }
   ],
   "source": [
    "Jphi(r,th)"
   ]
  },
  {
   "cell_type": "code",
   "execution_count": 10,
   "metadata": {},
   "outputs": [],
   "source": [
    "def Fr(r,th):\n",
    "    return simplify( -Jphi(r,th) * Bth(r,th)) "
   ]
  },
  {
   "cell_type": "code",
   "execution_count": 11,
   "metadata": {},
   "outputs": [
    {
     "data": {
      "text/latex": [
       "$\\displaystyle - \\frac{3 r \\left(r^{2} - 1\\right) \\left(45 r^{4} - 84 r^{2} + 35\\right) \\sin^{2}{\\left(th \\right)}}{70 \\pi}$"
      ],
      "text/plain": [
       "-3*r*(r**2 - 1)*(45*r**4 - 84*r**2 + 35)*sin(th)**2/(70*pi)"
      ]
     },
     "execution_count": 11,
     "metadata": {},
     "output_type": "execute_result"
    }
   ],
   "source": [
    "Fr(r,th)"
   ]
  },
  {
   "cell_type": "code",
   "execution_count": 12,
   "metadata": {},
   "outputs": [],
   "source": [
    "def Fth(r,th):\n",
    "    return simplify( Jphi(r,th) * Br(r,th)) "
   ]
  },
  {
   "cell_type": "code",
   "execution_count": 13,
   "metadata": {},
   "outputs": [
    {
     "data": {
      "text/latex": [
       "$\\displaystyle - \\frac{3 r \\left(r^{2} - 1\\right) \\left(15 r^{4} - 42 r^{2} + 35\\right) \\sin{\\left(2 th \\right)}}{140 \\pi}$"
      ],
      "text/plain": [
       "-3*r*(r**2 - 1)*(15*r**4 - 42*r**2 + 35)*sin(2*th)/(140*pi)"
      ]
     },
     "execution_count": 13,
     "metadata": {},
     "output_type": "execute_result"
    }
   ],
   "source": [
    "Fth(r,th)"
   ]
  },
  {
   "cell_type": "code",
   "execution_count": 14,
   "metadata": {},
   "outputs": [],
   "source": [
    "def rotF(r,th):\n",
    "    return simplify( (diff(r*Fth(r,th)/rho0, r) - diff(Fr(r,th),th)/rho0) / (r)) "
   ]
  },
  {
   "cell_type": "code",
   "execution_count": 15,
   "metadata": {},
   "outputs": [
    {
     "data": {
      "text/latex": [
       "$\\displaystyle \\frac{3 r^{2} \\left(- 15 r^{4} + 42 r^{2} - 35\\right) \\sin{\\left(2 th \\right)}}{70 \\pi \\rho_{0}}$"
      ],
      "text/plain": [
       "3*r**2*(-15*r**4 + 42*r**2 - 35)*sin(2*th)/(70*pi*rho_0)"
      ]
     },
     "execution_count": 15,
     "metadata": {},
     "output_type": "execute_result"
    }
   ],
   "source": [
    "rotF(r,th)"
   ]
  },
  {
   "cell_type": "code",
   "execution_count": 16,
   "metadata": {},
   "outputs": [
    {
     "data": {
      "text/latex": [
       "$\\displaystyle \\frac{4}{35}$"
      ],
      "text/plain": [
       "4/35"
      ]
     },
     "execution_count": 16,
     "metadata": {},
     "output_type": "execute_result"
    }
   ],
   "source": [
    "Psi(1,pi/2)"
   ]
  },
  {
   "cell_type": "code",
   "execution_count": 17,
   "metadata": {},
   "outputs": [],
   "source": [
    "def Q(r,th):\n",
    "#    return (Rational(1,2)*r**2 - Rational(3,5)*r**4 + Rational(3,14)*r**6  - Rational(4,35)*r**2)*sin(th)**2\n",
    "    return (Rational(1,2)*r**2 - Rational(3,5)*r**4 + Rational(3,14)*r**6 )*sin(th)**2"
   ]
  },
  {
   "cell_type": "code",
   "execution_count": 28,
   "metadata": {},
   "outputs": [
    {
     "data": {
      "image/png": "[encoded data removed]",
      "text/plain": [
       "<Figure size 432x288 with 1 Axes>"
      ]
     },
     "metadata": {
      "needs_background": "light"
     },
     "output_type": "display_data"
    },
    {
     "data": {
      "text/plain": [
       "<sympy.plotting.plot.Plot at 0x7f0c8de2e550>"
      ]
     },
     "execution_count": 28,
     "metadata": {},
     "output_type": "execute_result"
    }
   ],
   "source": [
    "plot( Psi(r,pi/2), xlim=(0,1), ylim=(0, 0.2))"
   ]
  },
  {
   "cell_type": "code",
   "execution_count": 19,
   "metadata": {},
   "outputs": [],
   "source": [
    "def vr(r,th):\n",
    "    return simplify(diff(Q(r,th), th) / (rho0 * r**2 * sin(th)))"
   ]
  },
  {
   "cell_type": "code",
   "execution_count": 20,
   "metadata": {},
   "outputs": [],
   "source": [
    "def vth(r,th):\n",
    "    return simplify(diff(Q(r,th), r) / (- rho0 * r * sin(th)))"
   ]
  },
  {
   "cell_type": "code",
   "execution_count": 21,
   "metadata": {},
   "outputs": [],
   "source": [
    "def ωphi(r,th):\n",
    "    return simplify( (diff(r*vth(r,th), r) - diff(vr(r,th),th)) / (r)) "
   ]
  },
  {
   "cell_type": "code",
   "execution_count": 22,
   "metadata": {},
   "outputs": [
    {
     "data": {
      "text/latex": [
       "$\\displaystyle \\frac{\\left(15 r^{4} - 42 r^{2} + 35\\right) \\cos{\\left(th \\right)}}{35 \\rho_{0}}$"
      ],
      "text/plain": [
       "(15*r**4 - 42*r**2 + 35)*cos(th)/(35*rho_0)"
      ]
     },
     "execution_count": 22,
     "metadata": {},
     "output_type": "execute_result"
    }
   ],
   "source": [
    "vr(r,th)"
   ]
  },
  {
   "cell_type": "code",
   "execution_count": 23,
   "metadata": {},
   "outputs": [],
   "source": [
    "def vxω_r(r,th):\n",
    "    return simplify(vth(r,th)*ωphi(r,th))"
   ]
  },
  {
   "cell_type": "code",
   "execution_count": 24,
   "metadata": {},
   "outputs": [],
   "source": [
    "def vxω_th(r,th):\n",
    "    return simplify(-vr(r,th)*ωphi(r,th))"
   ]
  },
  {
   "cell_type": "code",
   "execution_count": 25,
   "metadata": {},
   "outputs": [],
   "source": [
    "def rotF(r,th):\n",
    "    return simplify( (diff(r*vxω_th(r,th), r) - diff(vxω_r(r,th),th)) / (r)) "
   ]
  },
  {
   "cell_type": "code",
   "execution_count": 26,
   "metadata": {},
   "outputs": [
    {
     "data": {
      "text/latex": [
       "$\\displaystyle \\frac{6 r^{2} \\left(15 r^{4} - 42 r^{2} + 35\\right) \\sin{\\left(2 th \\right)}}{35 \\rho_{0}^{2}}$"
      ],
      "text/plain": [
       "6*r**2*(15*r**4 - 42*r**2 + 35)*sin(2*th)/(35*rho_0**2)"
      ]
     },
     "execution_count": 26,
     "metadata": {},
     "output_type": "execute_result"
    }
   ],
   "source": [
    "rotF(r,th)"
   ]
  },
  {
   "cell_type": "code",
   "execution_count": 27,
   "metadata": {},
   "outputs": [
    {
     "data": {
      "text/latex": [
       "$\\displaystyle \\frac{\\left(15 r^{4} - 42 r^{2} + 35\\right)^{2} \\cos^{2}{\\left(th \\right)} + \\left(45 r^{4} - 84 r^{2} + 35\\right)^{2} \\sin^{2}{\\left(th \\right)}}{1225 \\rho_{0}^{2}}$"
      ],
      "text/plain": [
       "((15*r**4 - 42*r**2 + 35)**2*cos(th)**2 + (45*r**4 - 84*r**2 + 35)**2*sin(th)**2)/(1225*rho_0**2)"
      ]
     },
     "execution_count": 27,
     "metadata": {},
     "output_type": "execute_result"
    }
   ],
   "source": [
    "simplify(vr(r,th)**2 + vth(r,th)**2)"
   ]
  },
  {
   "cell_type": "code",
   "execution_count": 71,
   "metadata": {},
   "outputs": [
    {
     "data": {
      "text/latex": [
       "$\\displaystyle \\frac{6 r \\left(r^{2} - 1\\right) \\left(45 r^{4} - 84 r^{2} + 35\\right) \\sin^{2}{\\left(th \\right)}}{35 \\rho_{0}^{2}}$"
      ],
      "text/plain": [
       "6*r*(r**2 - 1)*(45*r**4 - 84*r**2 + 35)*sin(th)**2/(35*rho_0**2)"
      ]
     },
     "execution_count": 71,
     "metadata": {},
     "output_type": "execute_result"
    }
   ],
   "source": [
    "vxω_r(r,th)"
   ]
  }
 ],
 "metadata": {
  "kernelspec": {
   "display_name": "Python 3",
   "language": "python",
   "name": "python3"
  },
  "language_info": {
   "codemirror_mode": {
    "name": "ipython",
    "version": 3
   },
   "file_extension": ".py",
   "mimetype": "text/x-python",
   "name": "python",
   "nbconvert_exporter": "python",
   "pygments_lexer": "ipython3",
   "version": "3.7.4"
  }
 },
 "nbformat": 4,
 "nbformat_minor": 2
}
